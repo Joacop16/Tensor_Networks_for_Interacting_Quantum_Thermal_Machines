{
 "cells": [
  {
   "cell_type": "code",
   "execution_count": 1,
   "id": "cea907b7-c93d-4f16-91f5-087d3114a852",
   "metadata": {},
   "outputs": [],
   "source": [
    "using LinearAlgebra"
   ]
  },
  {
   "cell_type": "markdown",
   "id": "6a738f73-e16c-4155-a7d0-c4973ef4107d",
   "metadata": {},
   "source": [
    "**Noninteracting $H_{s}$**"
   ]
  },
  {
   "cell_type": "code",
   "execution_count": 2,
   "id": "ff80ee4d-8b03-43ae-9370-45871f9142a7",
   "metadata": {},
   "outputs": [
    {
     "data": {
      "text/plain": [
       "fermi_dirac_distribution (generic function with 1 method)"
      ]
     },
     "execution_count": 2,
     "metadata": {},
     "output_type": "execute_result"
    }
   ],
   "source": [
    "fermi_dirac_distribution(ε, μ, β) = 1/(exp((ε - μ)*β) + 1) #Fermi-Dirac distribution"
   ]
  },
  {
   "cell_type": "code",
   "execution_count": 3,
   "id": "39728575-8711-4628-b42b-4505dbce00b6",
   "metadata": {},
   "outputs": [
    {
     "data": {
      "text/plain": [
       "51"
      ]
     },
     "execution_count": 3,
     "metadata": {},
     "output_type": "execute_result"
    }
   ],
   "source": [
    "D = 1 #Number of system sites\n",
    "L = 50 #Number of left-lead sites\n",
    "\n",
    "M = D+L #total number of sites of system and lead"
   ]
  },
  {
   "cell_type": "code",
   "execution_count": 4,
   "id": "7c1bfdd7-5394-4864-ad71-9d020e2ec61e",
   "metadata": {},
   "outputs": [],
   "source": [
    "#W1 = W*\n",
    "#W2 = W\n",
    "\n",
    "W1 = 10 #W*\n",
    "\n",
    "#Left lead\n",
    "\n",
    "ε1 = -W1\n",
    "εL = W1\n",
    "\n",
    "εk_array_L = LinRange(ε1, εL, L)\n",
    "\n",
    "μ_L, β_L = 1, 2\n",
    "fk_array_L = [fermi_dirac_distribution(ε, μ_L, β_L) for ε = εk_array_L]\n",
    "γk_array_L = [εk_array_L[k+1] - εk_array_L[k] for k=1:L-1] #I am not sure about how to define this array\n",
    "append!(γk_array_L, 0)\n",
    "\n",
    "Γ_plus = zeros(M,M)\n",
    "Γ_minus = zeros(M,M)\n",
    "\n",
    "for i=1:L\n",
    "    Γ_plus[i,i] = γk_array_L[i]*fk_array_L[i]\n",
    "    Γ_minus[i,i] = γk_array_L[i]*(1 - fk_array_L[i])\n",
    "end"
   ]
  },
  {
   "cell_type": "code",
   "execution_count": 5,
   "id": "8dc75d87-bc56-450c-8dcc-32c193aa6ab3",
   "metadata": {},
   "outputs": [],
   "source": [
    "# # Idea for including Right lead:\n",
    "\n",
    "# R = 50 #Number of R-lead sites\n",
    "# M = L + D + R\n",
    "\n",
    "# εk_array_R = LinRange(ε1, εL, R)\n",
    "\n",
    "# μ_R, β_R = 1, 2\n",
    "# fk_array_R = [fermi_dirac_distribution(ε, μ_R, β_R) for ε = εk_array_R]\n",
    "# γk_array_R = [εk_array_R[k+1] - εk_array_R[k] for k=1:R-1]\n",
    "# append!(γk_array_R, 0)\n",
    "\n",
    "# Γ_plus = zeros(M,M)\n",
    "# Γ_minus = zeros(M,M)\n",
    "\n",
    "# for i=1:L\n",
    "#     Γ_plus[i,i] = γk_array_L[i]*fk_array_L[i]\n",
    "#     Γ_minus[i,i] = γk_array_L[i]*(1 - fk_array_L[i])\n",
    "# end\n",
    "\n",
    "# for i=L+D+1:M\n",
    "#     Γ_plus[i,i] = γk_array_R[i - (L + D)]*fk_array_R[i - (L + D)]\n",
    "#     Γ_minus[i,i] = γk_array_R[i - (L + D)]*(1 - fk_array_R[i - (L + D)])\n",
    "# end"
   ]
  },
  {
   "cell_type": "code",
   "execution_count": 6,
   "id": "ce1f99d5-2e18-4940-aa73-5eefe507722d",
   "metadata": {},
   "outputs": [
    {
     "data": {
      "text/plain": [
       "true"
      ]
     },
     "execution_count": 6,
     "metadata": {},
     "output_type": "execute_result"
    }
   ],
   "source": [
    "Λ = (Γ_minus + Γ_plus)/2\n",
    "Ω = (Γ_minus - Γ_plus)/2\n",
    "\n",
    "H_Matrix = Γ_plus #H should be MxM\n",
    "\n",
    "L_Matrix = zeros(Complex{Float64}, 2*M, 2*M)\n",
    "\n",
    "L_Matrix[1:M,1:M] = H_Matrix - 1im*Ω\n",
    "L_Matrix[1:M,M+1:2*M] = 1im*Γ_plus\n",
    "L_Matrix[M+1:2*M,1:M] = 1im*Γ_minus\n",
    "L_Matrix[M+1:2*M,M+1:2*M] = H_Matrix + 1im*Ω\n",
    "\n",
    "#Let's diagonalize L_Matrix\n",
    "\n",
    "Eigvals, V = eigen(L_Matrix)\n",
    "\n",
    "ε = zeros(Complex{Float64},2*M, 2*M)\n",
    "for i =1:2*M\n",
    "    ε[i,i] = Eigvals[i]\n",
    "end\n",
    "\n",
    "#Let's check this diagonalization\n",
    "isapprox(V*ε*inv(V), L_Matrix)"
   ]
  },
  {
   "cell_type": "code",
   "execution_count": 7,
   "id": "d6257e65-549c-426e-b250-d7deec3fbacb",
   "metadata": {},
   "outputs": [
    {
     "data": {
      "text/plain": [
       "102×102 Matrix{ComplexF64}:\n",
       " 0.408163+0.204082im       0.0-0.0im       …  0.0+0.0im  0.0+0.0im\n",
       "      0.0-0.0im       0.408163+0.204082im     0.0+0.0im  0.0+0.0im\n",
       "      0.0-0.0im            0.0-0.0im          0.0+0.0im  0.0+0.0im\n",
       "      0.0-0.0im            0.0-0.0im          0.0+0.0im  0.0+0.0im\n",
       "      0.0-0.0im            0.0-0.0im          0.0+0.0im  0.0+0.0im\n",
       "      0.0-0.0im            0.0-0.0im       …  0.0+0.0im  0.0+0.0im\n",
       "      0.0-0.0im            0.0-0.0im          0.0+0.0im  0.0+0.0im\n",
       "      0.0-0.0im            0.0-0.0im          0.0+0.0im  0.0+0.0im\n",
       "      0.0-0.0im            0.0-0.0im          0.0+0.0im  0.0+0.0im\n",
       "      0.0-0.0im            0.0-0.0im          0.0+0.0im  0.0+0.0im\n",
       "      0.0-0.0im            0.0-0.0im       …  0.0+0.0im  0.0+0.0im\n",
       "      0.0-0.0im            0.0-0.0im          0.0+0.0im  0.0+0.0im\n",
       "      0.0-0.0im            0.0-0.0im          0.0+0.0im  0.0+0.0im\n",
       "         ⋮                                 ⋱     ⋮       \n",
       "      0.0+0.0im            0.0+0.0im       …  0.0+0.0im  0.0+0.0im\n",
       "      0.0+0.0im            0.0+0.0im          0.0+0.0im  0.0+0.0im\n",
       "      0.0+0.0im            0.0+0.0im          0.0+0.0im  0.0+0.0im\n",
       "      0.0+0.0im            0.0+0.0im          0.0+0.0im  0.0+0.0im\n",
       "      0.0+0.0im            0.0+0.0im          0.0+0.0im  0.0+0.0im\n",
       "      0.0+0.0im            0.0+0.0im       …  0.0+0.0im  0.0+0.0im\n",
       "      0.0+0.0im            0.0+0.0im          0.0+0.0im  0.0+0.0im\n",
       "      0.0+0.0im            0.0+0.0im          0.0+0.0im  0.0+0.0im\n",
       "      0.0+0.0im            0.0+0.0im          0.0+0.0im  0.0+0.0im\n",
       "      0.0+0.0im            0.0+0.0im          0.0+0.0im  0.0+0.0im\n",
       "      0.0+0.0im            0.0+0.0im       …  0.0+0.0im  0.0+0.0im\n",
       "      0.0+0.0im            0.0+0.0im          0.0+0.0im  0.0+0.0im"
      ]
     },
     "execution_count": 7,
     "metadata": {},
     "output_type": "execute_result"
    }
   ],
   "source": [
    "L_Matrix"
   ]
  },
  {
   "cell_type": "code",
   "execution_count": 8,
   "id": "b2a9f4a4-e703-4ed9-b762-69f0dab00150",
   "metadata": {},
   "outputs": [
    {
     "data": {
      "text/plain": [
       "Θ (generic function with 1 method)"
      ]
     },
     "execution_count": 8,
     "metadata": {},
     "output_type": "execute_result"
    }
   ],
   "source": [
    "Θ(x) = x >= 0 ? 1.0 : -1.0 #Heaviside step function #https://en.wikipedia.org/wiki/Heaviside_step_function"
   ]
  },
  {
   "cell_type": "code",
   "execution_count": 9,
   "id": "766730d0-bddc-4079-ac70-39809748c29f",
   "metadata": {},
   "outputs": [
    {
     "data": {
      "text/plain": [
       "102×102 Matrix{ComplexF64}:\n",
       " 0.0+0.0im  0.0+0.0im  0.0+0.0im  0.0+0.0im  …        0.0+0.0im\n",
       " 0.0+0.0im  0.0+0.0im  0.0+0.0im  0.0+0.0im           0.0+0.0im\n",
       " 0.0+0.0im  0.0+0.0im  0.0+0.0im  0.0+0.0im           0.0+0.0im\n",
       " 0.0+0.0im  0.0+0.0im  0.0+0.0im  0.0+0.0im           0.0+0.0im\n",
       " 0.0+0.0im  0.0+0.0im  0.0+0.0im  0.0+0.0im           0.0+0.0im\n",
       " 0.0+0.0im  0.0+0.0im  0.0+0.0im  0.0+0.0im  …        0.0+0.0im\n",
       " 0.0+0.0im  0.0+0.0im  0.0+0.0im  0.0+0.0im           0.0+0.0im\n",
       " 0.0+0.0im  0.0+0.0im  0.0+0.0im  0.0+0.0im           0.0+0.0im\n",
       " 0.0+0.0im  0.0+0.0im  0.0+0.0im  0.0+0.0im           0.0+0.0im\n",
       " 0.0+0.0im  0.0+0.0im  0.0+0.0im  0.0+0.0im           0.0+0.0im\n",
       " 0.0+0.0im  0.0+0.0im  0.0+0.0im  0.0+0.0im  …        0.0+0.0im\n",
       " 0.0+0.0im  0.0+0.0im  0.0+0.0im  0.0+0.0im           0.0+0.0im\n",
       " 0.0+0.0im  0.0+0.0im  0.0+0.0im  0.0+0.0im           0.0+0.0im\n",
       "    ⋮                                        ⋱  \n",
       " 0.0+0.0im  0.0+0.0im  0.0+0.0im  0.0+0.0im  …        0.0+0.0im\n",
       " 0.0+0.0im  0.0+0.0im  0.0+0.0im  0.0+0.0im           0.0+0.0im\n",
       " 0.0+0.0im  0.0+0.0im  0.0+0.0im  0.0+0.0im           0.0+0.0im\n",
       " 0.0+0.0im  0.0+0.0im  0.0+0.0im  0.0+0.0im           0.0+0.0im\n",
       " 0.0+0.0im  0.0+0.0im  0.0+0.0im  0.0+0.0im           0.0+0.0im\n",
       " 0.0+0.0im  0.0+0.0im  0.0+0.0im  0.0+0.0im  …        0.0+0.0im\n",
       " 0.0+0.0im  0.0+0.0im  0.0+0.0im  0.0+0.0im           0.0+0.0im\n",
       " 0.0+0.0im  0.0+0.0im  0.0+0.0im  0.0+0.0im           0.0+0.0im\n",
       " 0.0+0.0im  0.0+0.0im  0.0+0.0im  0.0+0.0im           0.0+0.0im\n",
       " 0.0+0.0im  0.0+0.0im  0.0+0.0im  0.0+0.0im           0.0+0.0im\n",
       " 0.0+0.0im  0.0+0.0im  0.0+0.0im  0.0+0.0im  …        0.0+0.0im\n",
       " 0.0+0.0im  0.0+0.0im  0.0+0.0im  0.0+0.0im     -0.204082+0.408163im"
      ]
     },
     "execution_count": 9,
     "metadata": {},
     "output_type": "execute_result"
    }
   ],
   "source": [
    "D_Matrix = 1im*ε #I just need to apply Heaviside step function"
   ]
  },
  {
   "cell_type": "code",
   "execution_count": 10,
   "id": "cbc1db30-ef7a-4c17-b6e2-8b461ff47904",
   "metadata": {},
   "outputs": [
    {
     "data": {
      "text/plain": [
       "two_point_correlations (generic function with 1 method)"
      ]
     },
     "execution_count": 10,
     "metadata": {},
     "output_type": "execute_result"
    }
   ],
   "source": [
    "function two_point_correlations(i,j, V, D)\n",
    "    V_inv = inv(V)\n",
    "    \n",
    "    correlation = 0\n",
    "    for k = 1:size(V)[1]\n",
    "        for l = 1:size(V)[1]\n",
    "            correlation += V[j,k]*D[k,l]*V_inv[l,i]\n",
    "        end\n",
    "    end\n",
    "    return correlation\n",
    "end"
   ]
  },
  {
   "cell_type": "markdown",
   "id": "14d3ea13-23b1-41a6-9547-3cc67769a104",
   "metadata": {},
   "source": [
    "**Interacting $H_{s}$**"
   ]
  },
  {
   "cell_type": "code",
   "execution_count": null,
   "id": "e691f530-bbdb-4c8c-91d0-528f05f4dc55",
   "metadata": {},
   "outputs": [],
   "source": []
  }
 ],
 "metadata": {
  "kernelspec": {
   "display_name": "Julia 1.9.2",
   "language": "julia",
   "name": "julia-1.9"
  },
  "language_info": {
   "file_extension": ".jl",
   "mimetype": "application/julia",
   "name": "julia",
   "version": "1.9.2"
  }
 },
 "nbformat": 4,
 "nbformat_minor": 5
}
